{
 "cells": [
  {
   "cell_type": "code",
   "execution_count": 1,
   "id": "8d4dc443-36a5-4778-837d-9ebad9c01a2f",
   "metadata": {},
   "outputs": [],
   "source": [
    "import numpy as np\n",
    "import scipy.stats as si"
   ]
  },
  {
   "cell_type": "code",
   "execution_count": 2,
   "id": "0c4c4e57-80af-4e18-986a-7f6f33fe1767",
   "metadata": {},
   "outputs": [],
   "source": [
    "def black_scholes(S, K, T, r, sigma, option_type='call'):\n",
    "    d1 = (np.log(S / K) + (r + 0.5 * sigma**2) * T) / (sigma * np.sqrt(T))\n",
    "    d2 = d1 - sigma * np.sqrt(T)\n",
    "\n",
    "    if option_type == 'call':\n",
    "        price = S * si.norm.cdf(d1) - K * np.exp(-r * T) * si.norm.cdf(d2)\n",
    "        delta = si.norm.cdf(d1)\n",
    "    elif option_type == 'put':\n",
    "        price = K * np.exp(-r * T) * si.norm.cdf(-d2) - S * si.norm.cdf(-d1)\n",
    "        delta = si.norm.cdf(d1) - 1\n",
    "    else:\n",
    "        raise ValueError(\"option_type must be 'call' or 'put'\")\n",
    "\n",
    "    return price, delta"
   ]
  },
  {
   "cell_type": "code",
   "execution_count": 3,
   "id": "c9b50e96-df08-4140-b395-77f41a8c7a1c",
   "metadata": {},
   "outputs": [],
   "source": [
    "S0 = 1333.30   # Spot price\n",
    "K = 1340       # Strike price\n",
    "T = 0.03836    # Time to expiry in years (14 days)\n",
    "r = 0.06       # Risk-free rate\n",
    "sigma = 0.30"
   ]
  },
  {
   "cell_type": "code",
   "execution_count": 4,
   "id": "d4c78abc-8f7a-44ad-af92-6f64aec14a63",
   "metadata": {},
   "outputs": [
    {
     "name": "stdout",
     "output_type": "stream",
     "text": [
      "European Call Option Price: ₹29.51\n",
      "European Call Delta: 0.4933\n",
      "\n",
      "European Put Option Price: ₹33.13\n",
      "European Put Delta: -0.5067\n"
     ]
    }
   ],
   "source": [
    "call_price, call_delta = black_scholes(S0, K, T, r, sigma, option_type='call')\n",
    "\n",
    "# Put Option\n",
    "put_price, put_delta = black_scholes(S0, K, T, r, sigma, option_type='put')\n",
    "\n",
    "# Output\n",
    "print(f\"European Call Option Price: ₹{call_price:.2f}\")\n",
    "print(f\"European Call Delta: {call_delta:.4f}\\n\")\n",
    "\n",
    "print(f\"European Put Option Price: ₹{put_price:.2f}\")\n",
    "print(f\"European Put Delta: {put_delta:.4f}\")"
   ]
  }
 ],
 "metadata": {
  "kernelspec": {
   "display_name": "Python 3 (ipykernel)",
   "language": "python",
   "name": "python3"
  },
  "language_info": {
   "codemirror_mode": {
    "name": "ipython",
    "version": 3
   },
   "file_extension": ".py",
   "mimetype": "text/x-python",
   "name": "python",
   "nbconvert_exporter": "python",
   "pygments_lexer": "ipython3",
   "version": "3.12.0"
  }
 },
 "nbformat": 4,
 "nbformat_minor": 5
}
